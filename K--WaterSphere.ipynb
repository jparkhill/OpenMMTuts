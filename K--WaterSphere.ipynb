{
 "metadata": {
  "name": ""
 },
 "nbformat": 3,
 "nbformat_minor": 0,
 "worksheets": [
  {
   "cells": [
    {
     "cell_type": "code",
     "collapsed": false,
     "input": [
      "from simtk.openmm.app import *\n",
      "from simtk.openmm import *\n",
      "from simtk.unit import *\n",
      "\n",
      "pdb = PDBFile('waterSphere.pdb')\n",
      "forcefield = ForceField('amber99sb.xml', 'tip3p.xml')\n",
      "system = forcefield.createSystem(pdb.topology, nonbondedMethod=NoCutoff)\n",
      "force = CustomExternalForce('10*max(0, r-1)^2; r=sqrt(x*x+y*y+z*z)')\n",
      "for i in range(system.getNumParticles()):\n",
      "    force.addParticle(i, ())\n",
      "system.addForce(force)\n",
      "integrator = LangevinIntegrator(1000*kelvin, 1/picosecond, 0.002*picoseconds)\n",
      "simulation = Simulation(pdb.topology, system, integrator)\n",
      "simulation.context.setPositions(pdb.positions)\n",
      "simulation.reporters.append(PDBReporter('output.pdb', 100))\n",
      "simulation.step(5000)\n",
      "del simulation\n",
      "print('Done!')"
     ],
     "language": "python",
     "metadata": {},
     "outputs": []
    },
    {
     "cell_type": "code",
     "collapsed": false,
     "input": [],
     "language": "python",
     "metadata": {},
     "outputs": []
    }
   ],
   "metadata": {}
  }
 ]
}