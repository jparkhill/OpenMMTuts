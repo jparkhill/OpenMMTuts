{
 "metadata": {
  "name": ""
 },
 "nbformat": 3,
 "nbformat_minor": 0,
 "worksheets": [
  {
   "cells": [
    {
     "cell_type": "markdown",
     "metadata": {},
     "source": [
      "<h1>Implicit solvent MD on chain D\n",
      "<img src=\"files/UB_monomer_implicit.png\" width=\"200\" style=\"float:center;\"/>\n",
      " of 1xd3</h1>"
     ]
    },
    {
     "cell_type": "markdown",
     "metadata": {},
     "source": [
      "<p style=\"font-family:arial;font-size:20px\">Load modules</p>"
     ]
    },
    {
     "cell_type": "code",
     "collapsed": false,
     "input": [
      "from __future__ import print_function\n",
      "from simtk.openmm import app\n",
      "import simtk.openmm as mm\n",
      "from simtk import unit\n",
      "from sys import stdout"
     ],
     "language": "python",
     "metadata": {},
     "outputs": [],
     "prompt_number": 5
    },
    {
     "cell_type": "markdown",
     "metadata": {},
     "source": [
      "<p style=\"font-family:arial;font-size:20px\">Load the protein coordinates</p>"
     ]
    },
    {
     "cell_type": "code",
     "collapsed": false,
     "input": [
      "pdb = app.PDBFile('PDBFixer_1xd3_D_implicit_in.pdb')"
     ],
     "language": "python",
     "metadata": {},
     "outputs": [],
     "prompt_number": 6
    },
    {
     "cell_type": "markdown",
     "metadata": {},
     "source": [
      "<p style=\"font-family:arial;font-size:20px\">Select the force field and solvent model</p>"
     ]
    },
    {
     "cell_type": "code",
     "collapsed": false,
     "input": [
      "forcefield = app.ForceField('amber99sbildn.xml', 'amber99_obc.xml')"
     ],
     "language": "python",
     "metadata": {},
     "outputs": [],
     "prompt_number": 7
    },
    {
     "cell_type": "markdown",
     "metadata": {},
     "source": [
      "<p style=\"font-family:arial;font-size:20px\">Create the system</p>"
     ]
    },
    {
     "cell_type": "code",
     "collapsed": false,
     "input": [
      "system = forcefield.createSystem(pdb.topology, \n",
      "    nonbondedMethod=app.CutoffNonPeriodic, nonbondedCutoff=1.0*unit.nanometers, \n",
      "    constraints=app.HBonds)"
     ],
     "language": "python",
     "metadata": {},
     "outputs": [],
     "prompt_number": 9
    },
    {
     "cell_type": "markdown",
     "metadata": {},
     "source": [
      "<p style=\"font-family:arial;font-size:20px\">Specify the integrator to be used for advancing the equations of motion</p>"
     ]
    },
    {
     "cell_type": "code",
     "collapsed": false,
     "input": [
      "integrator = mm.LangevinIntegrator(300*unit.kelvin, 1.0/unit.picoseconds, \n",
      "    2.0*unit.femtoseconds)\n",
      "integrator.setConstraintTolerance(0.00001)"
     ],
     "language": "python",
     "metadata": {},
     "outputs": [],
     "prompt_number": 10
    },
    {
     "cell_type": "markdown",
     "metadata": {},
     "source": [
      "<p style=\"font-family:arial;font-size:20px\">Select from one of the following platforms: 'Reference', 'CPU', 'CUDA', 'OpenCL'</p>"
     ]
    },
    {
     "cell_type": "code",
     "collapsed": false,
     "input": [
      "platform = mm.Platform.getPlatformByName('CPU')"
     ],
     "language": "python",
     "metadata": {},
     "outputs": [],
     "prompt_number": 11
    },
    {
     "cell_type": "markdown",
     "metadata": {},
     "source": [
      "<p style=\"font-family:arial;font-size:20px\">Create the 'simulation' object, which coordinates all the processes involved in running a simulation, such as advancing time and writing output</p>"
     ]
    },
    {
     "cell_type": "code",
     "collapsed": false,
     "input": [
      "simulation = app.Simulation(pdb.topology, system, integrator, platform)\n",
      "simulation.context.setPositions(pdb.positions)"
     ],
     "language": "python",
     "metadata": {},
     "outputs": [],
     "prompt_number": 12
    },
    {
     "cell_type": "markdown",
     "metadata": {},
     "source": [
      "<p style=\"font-family:arial;font-size:20px\">Create a 'reporter' that generates output during the simulation</p>"
     ]
    },
    {
     "cell_type": "code",
     "collapsed": false,
     "input": [
      "simulation.reporters = []\n",
      "simulation.reporters.append(app.PDBReporter('PDBFixer_1xd3_D_implicit_out.pdb', 100))\n",
      "simulation.reporters.append(app.StateDataReporter(stdout, 500, step=True, \n",
      "    potentialEnergy=True, temperature=True))"
     ],
     "language": "python",
     "metadata": {},
     "outputs": [],
     "prompt_number": 13
    },
    {
     "cell_type": "markdown",
     "metadata": {},
     "source": [
      "<p style=\"font-family:arial;font-size:20px\">Minimize, equilibrate, and run production MD</p>"
     ]
    },
    {
     "cell_type": "code",
     "collapsed": false,
     "input": [
      "print('Minimizing...')\n",
      "simulation.minimizeEnergy(maxIterations=100)\n",
      "\n",
      "simulation.context.setVelocitiesToTemperature(300*unit.kelvin)\n",
      "print('Equilibrating...')\n",
      "simulation.step(100)\n",
      "\n",
      "print('Running Production...')\n",
      "simulation.step(10000)\n",
      "del simulation\n",
      "print('Done!')"
     ],
     "language": "python",
     "metadata": {},
     "outputs": [
      {
       "output_type": "stream",
       "stream": "stdout",
       "text": [
        "Minimizing...\n",
        "Equilibrating..."
       ]
      },
      {
       "output_type": "stream",
       "stream": "stdout",
       "text": [
        "\n",
        "Running Production..."
       ]
      },
      {
       "output_type": "stream",
       "stream": "stdout",
       "text": [
        "\n",
        "#\"Step\",\"Potential Energy (kJ/mole)\",\"Temperature (K)\""
       ]
      },
      {
       "output_type": "stream",
       "stream": "stdout",
       "text": [
        "\n"
       ]
      },
      {
       "output_type": "stream",
       "stream": "stdout",
       "text": [
        "500,-12211.5098794,259.784347755\n"
       ]
      },
      {
       "output_type": "stream",
       "stream": "stdout",
       "text": [
        "1000,-11857.4567227,281.189929048\n"
       ]
      },
      {
       "output_type": "stream",
       "stream": "stdout",
       "text": [
        "1500,-11684.6055509,298.112902939\n"
       ]
      },
      {
       "output_type": "stream",
       "stream": "stdout",
       "text": [
        "2000,-11544.0494588,294.690875346\n"
       ]
      },
      {
       "output_type": "stream",
       "stream": "stdout",
       "text": [
        "2500,-11684.4897185,301.736445786\n"
       ]
      },
      {
       "output_type": "stream",
       "stream": "stdout",
       "text": [
        "3000,-11369.7968649,302.37874286\n"
       ]
      },
      {
       "output_type": "stream",
       "stream": "stdout",
       "text": [
        "3500,-11596.4625346,305.603940256\n"
       ]
      },
      {
       "output_type": "stream",
       "stream": "stdout",
       "text": [
        "4000,-11465.7112446,307.895784944\n"
       ]
      },
      {
       "output_type": "stream",
       "stream": "stdout",
       "text": [
        "4500,-11277.6504584,303.066024907\n"
       ]
      },
      {
       "output_type": "stream",
       "stream": "stdout",
       "text": [
        "5000,-11216.8230284,298.52831838\n"
       ]
      },
      {
       "output_type": "stream",
       "stream": "stdout",
       "text": [
        "5500,-11305.4973898,303.485686159\n"
       ]
      },
      {
       "output_type": "stream",
       "stream": "stdout",
       "text": [
        "6000,-11277.4955466,293.648651077\n"
       ]
      },
      {
       "output_type": "stream",
       "stream": "stdout",
       "text": [
        "6500,-11418.6137784,311.58911554\n"
       ]
      },
      {
       "output_type": "stream",
       "stream": "stdout",
       "text": [
        "7000,-11565.397208,297.417594903\n"
       ]
      },
      {
       "output_type": "stream",
       "stream": "stdout",
       "text": [
        "7500,-11353.6660794,310.23798595\n"
       ]
      },
      {
       "output_type": "stream",
       "stream": "stdout",
       "text": [
        "8000,-11502.5870315,305.940599428\n"
       ]
      },
      {
       "output_type": "stream",
       "stream": "stdout",
       "text": [
        "8500,-11468.3011511,297.293826876\n"
       ]
      },
      {
       "output_type": "stream",
       "stream": "stdout",
       "text": [
        "9000,-11563.8736484,297.627591602\n"
       ]
      },
      {
       "output_type": "stream",
       "stream": "stdout",
       "text": [
        "9500,-11686.4308508,313.127329622\n"
       ]
      },
      {
       "output_type": "stream",
       "stream": "stdout",
       "text": [
        "10000,-11369.2344548,308.951626668\n"
       ]
      },
      {
       "output_type": "stream",
       "stream": "stdout",
       "text": [
        "Done!\n"
       ]
      }
     ],
     "prompt_number": 14
    },
    {
     "cell_type": "code",
     "collapsed": false,
     "input": [],
     "language": "python",
     "metadata": {},
     "outputs": []
    }
   ],
   "metadata": {}
  }
 ]
}