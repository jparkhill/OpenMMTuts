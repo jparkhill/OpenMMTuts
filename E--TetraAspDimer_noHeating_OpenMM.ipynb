{
 "metadata": {
  "name": ""
 },
 "nbformat": 3,
 "nbformat_minor": 0,
 "worksheets": [
  {
   "cells": [
    {
     "cell_type": "markdown",
     "metadata": {},
     "source": [
      "<h1>Simulating a H-bonded system without heating</h1>"
     ]
    },
    {
     "cell_type": "code",
     "collapsed": false,
     "input": [
      "from __future__ import print_function\n",
      "from simtk.openmm.app import *\n",
      "from simtk.openmm import *\n",
      "from simtk.unit import *\n",
      "from sys import stdout"
     ],
     "language": "python",
     "metadata": {},
     "outputs": [],
     "prompt_number": 36
    },
    {
     "cell_type": "code",
     "collapsed": false,
     "input": [
      "openmm.Platform.getOpenMMVersion()"
     ],
     "language": "python",
     "metadata": {},
     "outputs": [
      {
       "metadata": {},
       "output_type": "pyout",
       "prompt_number": 37,
       "text": [
        "'6.0'"
       ]
      }
     ],
     "prompt_number": 37
    },
    {
     "cell_type": "code",
     "collapsed": false,
     "input": [
      "ls"
     ],
     "language": "python",
     "metadata": {},
     "outputs": [
      {
       "output_type": "stream",
       "stream": "stdout",
       "text": [
        "TetraAspDimer_noIons.inpcrd                  TetraAspDimer_noIons.prmtop                  TetraAspDimer_noIons_noHeating_OpenMM.ipynb  TetraAspDimer_withHeating_OpenMM.ipynb\r\n"
       ]
      }
     ],
     "prompt_number": 38
    },
    {
     "cell_type": "markdown",
     "metadata": {},
     "source": [
      "<h2>Load Amber topology and coordinates</h2>"
     ]
    },
    {
     "cell_type": "code",
     "collapsed": false,
     "input": [
      "prmtop = AmberPrmtopFile('TetraAspDimer_noIons.prmtop')\n",
      "inpcrd = AmberInpcrdFile('TetraAspDimer_noIons.inpcrd')"
     ],
     "language": "python",
     "metadata": {},
     "outputs": [],
     "prompt_number": 39
    },
    {
     "cell_type": "markdown",
     "metadata": {},
     "source": [
      "<h2>Select simulation parameters</h2>"
     ]
    },
    {
     "cell_type": "code",
     "collapsed": false,
     "input": [
      "print ('Creating System')\n",
      "# Setting the temperature variable\n",
      "target_temperature = 600*kelvin\n",
      "\n",
      "system = prmtop.createSystem(nonbondedMethod=PME,nonbondedCutoff=1*nanometer, constraints=HBonds)\n",
      "integrator = LangevinIntegrator(target_temperature, 1/picosecond, 0.002*picoseconds)\n",
      "\n",
      "# ----------------------------------\n",
      "# -> in case we are running into problems with OpenCL or CUDA, we can specify either CPU or Reference as an alternative.\n",
      "# platform = Platform.getPlatformByName('CPU')\n",
      "# print \"Using Platform:\", platform\n",
      "# simulation = Simulation(prmtop.topology, system, integrator, platform)\n",
      "# ----------------------------------\n",
      "\n",
      "simulation = Simulation(prmtop.topology, system, integrator)\n",
      "simulation.context.setPositions(inpcrd.positions)"
     ],
     "language": "python",
     "metadata": {},
     "outputs": [
      {
       "output_type": "stream",
       "stream": "stdout",
       "text": [
        "Creating System\n"
       ]
      }
     ],
     "prompt_number": 40
    },
    {
     "cell_type": "markdown",
     "metadata": {},
     "source": [
      "<h2>Geometry optimization</h2>"
     ]
    },
    {
     "cell_type": "code",
     "collapsed": false,
     "input": [
      "# Minimizing the system\n",
      "simulation.minimizeEnergy(maxIterations=100)\n",
      "print ('Geometry optimization done.')"
     ],
     "language": "python",
     "metadata": {},
     "outputs": [
      {
       "output_type": "stream",
       "stream": "stdout",
       "text": [
        "Geometry optimization done.\n"
       ]
      }
     ],
     "prompt_number": 41
    },
    {
     "cell_type": "markdown",
     "metadata": {},
     "source": [
      "<h2>Production MD at 600 K</h2>"
     ]
    },
    {
     "cell_type": "code",
     "collapsed": false,
     "input": [
      "simulation.reporters = []\n",
      "# Output potential energy and temperature\n",
      "simulation.reporters.append(PDBReporter('TetraAspDimer_noIons_MDwoHeat.pdb', 100))\n",
      "simulation.reporters.append(StateDataReporter(stdout, 500, step=True, potentialEnergy=True, temperature=True))\n",
      "\n",
      "# Run simulation at 600K \n",
      "integrator.setTemperature(target_temperature)\n",
      "print ('Running production MD simulation ', target_temperature)\n",
      "simulation.step(10000)\n",
      "del simulation"
     ],
     "language": "python",
     "metadata": {},
     "outputs": [
      {
       "output_type": "stream",
       "stream": "stdout",
       "text": [
        "Running production MD simulation  600 K K.\n",
        "#\"Step\",\"Potential Energy (kJ/mole)\",\"Temperature (K)\""
       ]
      },
      {
       "output_type": "stream",
       "stream": "stdout",
       "text": [
        "\n"
       ]
      },
      {
       "output_type": "stream",
       "stream": "stdout",
       "text": [
        "500,-9319.19504527,488.780847491\n"
       ]
      },
      {
       "output_type": "stream",
       "stream": "stdout",
       "text": [
        "1000,-8704.66194168,534.933600594\n"
       ]
      },
      {
       "output_type": "stream",
       "stream": "stdout",
       "text": [
        "1500,-8486.66672026,558.337426273\n"
       ]
      },
      {
       "output_type": "stream",
       "stream": "stdout",
       "text": [
        "2000,-8341.13589329,593.454649285\n"
       ]
      },
      {
       "output_type": "stream",
       "stream": "stdout",
       "text": [
        "2500,-8142.89853577,624.406101958\n"
       ]
      },
      {
       "output_type": "stream",
       "stream": "stdout",
       "text": [
        "3000,-7930.96223555,599.913200293\n"
       ]
      },
      {
       "output_type": "stream",
       "stream": "stdout",
       "text": [
        "3500,-8050.7659441,614.587530577\n"
       ]
      },
      {
       "output_type": "stream",
       "stream": "stdout",
       "text": [
        "4000,-8149.35755757,615.020015289\n"
       ]
      },
      {
       "output_type": "stream",
       "stream": "stdout",
       "text": [
        "4500,-7847.46859013,587.02968357\n"
       ]
      },
      {
       "output_type": "stream",
       "stream": "stdout",
       "text": [
        "5000,-8062.22677901,592.727146071\n"
       ]
      },
      {
       "output_type": "stream",
       "stream": "stdout",
       "text": [
        "5500,-8141.50015922,615.389498066\n"
       ]
      },
      {
       "output_type": "stream",
       "stream": "stdout",
       "text": [
        "6000,-7655.56857032,600.565403383\n"
       ]
      },
      {
       "output_type": "stream",
       "stream": "stdout",
       "text": [
        "6500,-7419.36357793,597.716922172\n"
       ]
      },
      {
       "output_type": "stream",
       "stream": "stdout",
       "text": [
        "7000,-7974.86813744,610.059217565\n"
       ]
      },
      {
       "output_type": "stream",
       "stream": "stdout",
       "text": [
        "7500,-7749.69552627,605.375639521\n"
       ]
      },
      {
       "output_type": "stream",
       "stream": "stdout",
       "text": [
        "8000,-7806.39956212,591.255899517\n"
       ]
      },
      {
       "output_type": "stream",
       "stream": "stdout",
       "text": [
        "8500,-7636.28797477,594.106801954\n"
       ]
      },
      {
       "output_type": "stream",
       "stream": "stdout",
       "text": [
        "9000,-7750.18630667,624.086197382\n"
       ]
      },
      {
       "output_type": "stream",
       "stream": "stdout",
       "text": [
        "9500,-7795.04298864,608.441371542\n"
       ]
      },
      {
       "output_type": "stream",
       "stream": "stdout",
       "text": [
        "10000,-7815.96041836,596.367370844\n"
       ]
      }
     ],
     "prompt_number": 42
    },
    {
     "cell_type": "code",
     "collapsed": false,
     "input": [],
     "language": "python",
     "metadata": {},
     "outputs": []
    }
   ],
   "metadata": {}
  }
 ]
}