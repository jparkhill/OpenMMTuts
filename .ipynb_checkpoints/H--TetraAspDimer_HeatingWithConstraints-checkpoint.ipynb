{
 "metadata": {
  "name": ""
 },
 "nbformat": 3,
 "nbformat_minor": 0,
 "worksheets": [
  {
   "cells": [
    {
     "cell_type": "markdown",
     "metadata": {},
     "source": [
      "<h1>Stepwise heating of an H-bonded system, using constraints</h1>"
     ]
    },
    {
     "cell_type": "code",
     "collapsed": false,
     "input": [
      "from __future__ import print_function\n",
      "from simtk.openmm.app import *\n",
      "from simtk.openmm import *\n",
      "from simtk.unit import *\n",
      "from sys import stdout"
     ],
     "language": "python",
     "metadata": {},
     "outputs": [],
     "prompt_number": 11
    },
    {
     "cell_type": "code",
     "collapsed": false,
     "input": [
      "openmm.Platform.getOpenMMVersion()"
     ],
     "language": "python",
     "metadata": {},
     "outputs": [
      {
       "metadata": {},
       "output_type": "pyout",
       "prompt_number": 12,
       "text": [
        "'6.0'"
       ]
      }
     ],
     "prompt_number": 12
    },
    {
     "cell_type": "code",
     "collapsed": false,
     "input": [
      "ls"
     ],
     "language": "python",
     "metadata": {},
     "outputs": [
      {
       "output_type": "stream",
       "stream": "stdout",
       "text": [
        "TetraAspDimer_Constraints_OpenMM.ipynb      TetraAspDimer_noHeating_OpenMM.ipynb        TetraAspDimer_noIons_Heating.pdb            TetraAspDimer_withHeating_OpenMM.ipynb\r\n",
        "TetraAspDimer_HeatingWithConstraints.ipynb  TetraAspDimer_noIons.inpcrd                 TetraAspDimer_noIons_LowTempEquil.pdb\r\n",
        "TetraAspDimer_HeatingWithRestraints.ipynb   TetraAspDimer_noIons.prmtop                 TetraAspDimer_noIons_MDafterHeat.pdb\r\n"
       ]
      }
     ],
     "prompt_number": 13
    },
    {
     "cell_type": "markdown",
     "metadata": {},
     "source": [
      "<h2>Load Amber topology and coordinates</h2>"
     ]
    },
    {
     "cell_type": "code",
     "collapsed": false,
     "input": [
      "prmtop = AmberPrmtopFile('TetraAspDimer_noIons.prmtop')\n",
      "inpcrd = AmberInpcrdFile('TetraAspDimer_noIons.inpcrd')"
     ],
     "language": "python",
     "metadata": {},
     "outputs": [],
     "prompt_number": 14
    },
    {
     "cell_type": "markdown",
     "metadata": {},
     "source": [
      "<h2>Create the system</h2>"
     ]
    },
    {
     "cell_type": "code",
     "collapsed": false,
     "input": [
      "system = prmtop.createSystem(nonbondedMethod=PME,nonbondedCutoff=1*nanometer, constraints=HBonds)"
     ],
     "language": "python",
     "metadata": {},
     "outputs": [],
     "prompt_number": 15
    },
    {
     "cell_type": "markdown",
     "metadata": {},
     "source": [
      "<h2>Add constraints</h2>"
     ]
    },
    {
     "cell_type": "code",
     "collapsed": false,
     "input": [
      "system.addConstraint(15, 88, 1.8*angstroms)\n",
      "system.addConstraint(25, 78, 1.8*angstroms)\n",
      "system.addConstraint(39, 64, 1.8*angstroms)"
     ],
     "language": "python",
     "metadata": {},
     "outputs": [
      {
       "metadata": {},
       "output_type": "pyout",
       "prompt_number": 16,
       "text": [
        "734"
       ]
      }
     ],
     "prompt_number": 16
    },
    {
     "cell_type": "markdown",
     "metadata": {},
     "source": [
      "<h2>Create the Simulation object and store it in the variable 'simulation'</h2>"
     ]
    },
    {
     "cell_type": "code",
     "collapsed": false,
     "input": [
      "# Setting the temperature variable target_temperature to zero\n",
      "target_temperature = 0*kelvin\n",
      "integrator = LangevinIntegrator(target_temperature, 1/picosecond, 0.002*picoseconds)\n",
      "simulation = Simulation(prmtop.topology, system, integrator)\n",
      "simulation.context.setPositions(inpcrd.positions)\n",
      "\n",
      "# ----------------------------------\n",
      "# -> in case we are running into problems with OpenCL or CUDA, we can specify either CPU or Reference as an alternative.\n",
      "# platform = Platform.getPlatformByName('CPU')\n",
      "# print \"Using Platform:\", platform\n",
      "# simulation = Simulation(prmtop.topology, system, integrator, platform)\n",
      "# ----------------------------------"
     ],
     "language": "python",
     "metadata": {},
     "outputs": [],
     "prompt_number": 17
    },
    {
     "cell_type": "markdown",
     "metadata": {},
     "source": [
      "<h2>Geometry optimization</h2>"
     ]
    },
    {
     "cell_type": "code",
     "collapsed": false,
     "input": [
      "# Minimizing the system\n",
      "simulation.minimizeEnergy(maxIterations=100)\n",
      "print ('Geometry optimization done.')"
     ],
     "language": "python",
     "metadata": {},
     "outputs": [
      {
       "output_type": "stream",
       "stream": "stdout",
       "text": [
        "Geometry optimization done.\n"
       ]
      }
     ],
     "prompt_number": 18
    },
    {
     "cell_type": "markdown",
     "metadata": {},
     "source": [
      "<h2>Equilibrating to T = 0</h2>"
     ]
    },
    {
     "cell_type": "code",
     "collapsed": false,
     "input": [
      "simulation.reporters = []\n",
      "equil_steps = 4000\n",
      "# Equilibrating at low temperature\n",
      "print ('Equilibrating the optimized geometry to a low temperature for',equil_steps,'steps ... .')\n",
      "# Output potential energy and temperature during low temperature equilibration\n",
      "simulation.reporters.append(PDBReporter('TetraAspDimer_LowTemEquil_wConstraints.pdb', 100))\n",
      "simulation.reporters.append(StateDataReporter(stdout, 500, step=True, potentialEnergy=True, temperature=True))\n",
      "\n",
      "simulation.step(equil_steps)"
     ],
     "language": "python",
     "metadata": {},
     "outputs": [
      {
       "output_type": "stream",
       "stream": "stdout",
       "text": [
        "Equilibrating the optimized geometry to a low temperature for 4000 steps ... .\n",
        "#\"Step\",\"Potential Energy (kJ/mole)\",\"Temperature (K)\""
       ]
      },
      {
       "output_type": "stream",
       "stream": "stdout",
       "text": [
        "\n"
       ]
      },
      {
       "output_type": "stream",
       "stream": "stdout",
       "text": [
        "500,-12640.8229803,157.159711648\n"
       ]
      },
      {
       "output_type": "stream",
       "stream": "stdout",
       "text": [
        "1000,-13743.1545581,83.3613999903\n"
       ]
      },
      {
       "output_type": "stream",
       "stream": "stdout",
       "text": [
        "1500,-14183.645059,35.5472067616\n"
       ]
      },
      {
       "output_type": "stream",
       "stream": "stdout",
       "text": [
        "2000,-14386.0934241,14.9385332609\n"
       ]
      },
      {
       "output_type": "stream",
       "stream": "stdout",
       "text": [
        "2500,-14468.3376295,6.49424869521\n"
       ]
      },
      {
       "output_type": "stream",
       "stream": "stdout",
       "text": [
        "3000,-14505.8086915,2.57604076869\n"
       ]
      },
      {
       "output_type": "stream",
       "stream": "stdout",
       "text": [
        "3500,-14518.7154203,1.02588549642\n"
       ]
      },
      {
       "output_type": "stream",
       "stream": "stdout",
       "text": [
        "4000,-14523.9502443,0.392699644809\n"
       ]
      }
     ],
     "prompt_number": 19
    },
    {
     "cell_type": "markdown",
     "metadata": {},
     "source": [
      "<h2>Heating in 50 K increments from 0 to 600 K</h2>"
     ]
    },
    {
     "cell_type": "code",
     "collapsed": false,
     "input": [
      "simulation.reporters = []\n",
      "# Remember: target_temperature is currently set to 0\n",
      "# Heating (by looping six times and by increasing the value of T each time)\n",
      "print ('Heating the system from 0 to 600K (increasing target_temperature in 6 steps of 50K)')\n",
      "# Output potential energy and temperature\n",
      "simulation.reporters.append(PDBReporter('TetraAspDimer_Heat_wConstraints.pdb', 100))\n",
      "simulation.reporters.append(StateDataReporter(stdout, 500, step=True, potentialEnergy=True, temperature=True))\n",
      "for target_temperature in range(50, 601, 50):\n",
      "    integrator.setTemperature(target_temperature)\n",
      "    simulation.step(3000)\n",
      "    print ('Done heating to', target_temperature, 'K.')"
     ],
     "language": "python",
     "metadata": {},
     "outputs": [
      {
       "output_type": "stream",
       "stream": "stdout",
       "text": [
        "Heating the system from 0 to 600K (increasing target_temperature in 6 steps of 50K)\n",
        "#\"Step\",\"Potential Energy (kJ/mole)\",\"Temperature (K)\""
       ]
      },
      {
       "output_type": "stream",
       "stream": "stdout",
       "text": [
        "\n"
       ]
      },
      {
       "output_type": "stream",
       "stream": "stdout",
       "text": [
        "4500,-14316.8378446,32.5366156643\n"
       ]
      },
      {
       "output_type": "stream",
       "stream": "stdout",
       "text": [
        "5000,-14243.9887034,44.1314151785\n"
       ]
      },
      {
       "output_type": "stream",
       "stream": "stdout",
       "text": [
        "5500,-14228.4885609,49.934039749\n"
       ]
      },
      {
       "output_type": "stream",
       "stream": "stdout",
       "text": [
        "6000,-14224.1641259,48.8841082912\n"
       ]
      },
      {
       "output_type": "stream",
       "stream": "stdout",
       "text": [
        "6500,-14234.6967358,49.6441002299\n"
       ]
      },
      {
       "output_type": "stream",
       "stream": "stdout",
       "text": [
        "7000,-14224.3540012,47.7517630207\n"
       ]
      },
      {
       "output_type": "stream",
       "stream": "stdout",
       "text": [
        "Done heating to 50 K.\n",
        "7500,-13983.6263566,81.3478370248"
       ]
      },
      {
       "output_type": "stream",
       "stream": "stdout",
       "text": [
        "\n"
       ]
      },
      {
       "output_type": "stream",
       "stream": "stdout",
       "text": [
        "8000,-13909.66114,91.0986822943\n"
       ]
      },
      {
       "output_type": "stream",
       "stream": "stdout",
       "text": [
        "8500,-13892.5478868,94.4116089237\n"
       ]
      },
      {
       "output_type": "stream",
       "stream": "stdout",
       "text": [
        "9000,-13919.0618402,104.455261021\n"
       ]
      },
      {
       "output_type": "stream",
       "stream": "stdout",
       "text": [
        "9500,-13909.4143006,99.4801609474\n"
       ]
      },
      {
       "output_type": "stream",
       "stream": "stdout",
       "text": [
        "10000,-13914.8146509,103.537681681\n"
       ]
      },
      {
       "output_type": "stream",
       "stream": "stdout",
       "text": [
        "Done heating to 100 K.\n",
        "10500,-13601.1012006,125.47060923"
       ]
      },
      {
       "output_type": "stream",
       "stream": "stdout",
       "text": [
        "\n"
       ]
      },
      {
       "output_type": "stream",
       "stream": "stdout",
       "text": [
        "11000,-13582.6327241,139.233300338\n"
       ]
      },
      {
       "output_type": "stream",
       "stream": "stdout",
       "text": [
        "11500,-13545.2779793,142.707077739\n"
       ]
      },
      {
       "output_type": "stream",
       "stream": "stdout",
       "text": [
        "12000,-13538.4006081,139.047995238\n"
       ]
      },
      {
       "output_type": "stream",
       "stream": "stdout",
       "text": [
        "12500,-13500.5350692,138.650354237\n"
       ]
      },
      {
       "output_type": "stream",
       "stream": "stdout",
       "text": [
        "13000,-13578.9503308,159.122990446\n"
       ]
      },
      {
       "output_type": "stream",
       "stream": "stdout",
       "text": [
        "Done heating to 150 K.\n",
        "13500,-13265.1031655,174.851581491"
       ]
      },
      {
       "output_type": "stream",
       "stream": "stdout",
       "text": [
        "\n"
       ]
      },
      {
       "output_type": "stream",
       "stream": "stdout",
       "text": [
        "14000,-13214.2614037,196.838382826\n"
       ]
      },
      {
       "output_type": "stream",
       "stream": "stdout",
       "text": [
        "14500,-13180.4739515,200.739964484\n"
       ]
      },
      {
       "output_type": "stream",
       "stream": "stdout",
       "text": [
        "15000,-13128.4327656,196.239627496\n"
       ]
      },
      {
       "output_type": "stream",
       "stream": "stdout",
       "text": [
        "15500,-13224.5817235,192.861231823\n"
       ]
      },
      {
       "output_type": "stream",
       "stream": "stdout",
       "text": [
        "16000,-13244.7778192,207.994455672\n"
       ]
      },
      {
       "output_type": "stream",
       "stream": "stdout",
       "text": [
        "Done heating to 200 K.\n",
        "16500,-12868.7847697,233.730940032"
       ]
      },
      {
       "output_type": "stream",
       "stream": "stdout",
       "text": [
        "\n"
       ]
      },
      {
       "output_type": "stream",
       "stream": "stdout",
       "text": [
        "17000,-12723.7571823,240.954728668\n"
       ]
      },
      {
       "output_type": "stream",
       "stream": "stdout",
       "text": [
        "17500,-12734.555937,252.763907294\n"
       ]
      },
      {
       "output_type": "stream",
       "stream": "stdout",
       "text": [
        "18000,-12690.8135264,249.548015809\n"
       ]
      },
      {
       "output_type": "stream",
       "stream": "stdout",
       "text": [
        "18500,-12691.5487324,251.99840467\n"
       ]
      },
      {
       "output_type": "stream",
       "stream": "stdout",
       "text": [
        "19000,-12680.6615991,252.955473346\n"
       ]
      },
      {
       "output_type": "stream",
       "stream": "stdout",
       "text": [
        "Done heating to 250 K.\n",
        "19500,-12324.5857093,266.776695921"
       ]
      },
      {
       "output_type": "stream",
       "stream": "stdout",
       "text": [
        "\n"
       ]
      },
      {
       "output_type": "stream",
       "stream": "stdout",
       "text": [
        "20000,-12212.0591118,298.730497272\n"
       ]
      },
      {
       "output_type": "stream",
       "stream": "stdout",
       "text": [
        "20500,-12032.0838804,289.849791914\n"
       ]
      },
      {
       "output_type": "stream",
       "stream": "stdout",
       "text": [
        "21000,-11901.1133223,285.638575207\n"
       ]
      },
      {
       "output_type": "stream",
       "stream": "stdout",
       "text": [
        "21500,-11785.5281395,288.418250662\n"
       ]
      },
      {
       "output_type": "stream",
       "stream": "stdout",
       "text": [
        "22000,-11746.3308192,280.614241846\n"
       ]
      },
      {
       "output_type": "stream",
       "stream": "stdout",
       "text": [
        "Done heating to 300 K.\n",
        "22500,-11508.0170159,323.888286622"
       ]
      },
      {
       "output_type": "stream",
       "stream": "stdout",
       "text": [
        "\n"
       ]
      },
      {
       "output_type": "stream",
       "stream": "stdout",
       "text": [
        "23000,-11518.048607,333.014919948\n"
       ]
      },
      {
       "output_type": "stream",
       "stream": "stdout",
       "text": [
        "23500,-11266.927994,322.235273057\n"
       ]
      },
      {
       "output_type": "stream",
       "stream": "stdout",
       "text": [
        "24000,-11201.1635756,338.011874704\n"
       ]
      },
      {
       "output_type": "stream",
       "stream": "stdout",
       "text": [
        "24500,-11355.0703022,350.797381724\n"
       ]
      },
      {
       "output_type": "stream",
       "stream": "stdout",
       "text": [
        "25000,-11106.864157,348.501388522\n"
       ]
      },
      {
       "output_type": "stream",
       "stream": "stdout",
       "text": [
        "Done heating to 350 K.\n",
        "25500,-10708.3080805,354.557830747"
       ]
      },
      {
       "output_type": "stream",
       "stream": "stdout",
       "text": [
        "\n"
       ]
      },
      {
       "output_type": "stream",
       "stream": "stdout",
       "text": [
        "26000,-10407.4313878,380.028850756\n"
       ]
      },
      {
       "output_type": "stream",
       "stream": "stdout",
       "text": [
        "26500,-10245.1558246,425.528218143\n"
       ]
      },
      {
       "output_type": "stream",
       "stream": "stdout",
       "text": [
        "27000,-10415.7233339,407.72623091\n"
       ]
      },
      {
       "output_type": "stream",
       "stream": "stdout",
       "text": [
        "27500,-10472.91987,393.092759642\n"
       ]
      },
      {
       "output_type": "stream",
       "stream": "stdout",
       "text": [
        "28000,-10453.7450018,405.275248307\n"
       ]
      },
      {
       "output_type": "stream",
       "stream": "stdout",
       "text": [
        "Done heating to 400 K.\n",
        "28500,-9972.20055459,413.435721341"
       ]
      },
      {
       "output_type": "stream",
       "stream": "stdout",
       "text": [
        "\n"
       ]
      },
      {
       "output_type": "stream",
       "stream": "stdout",
       "text": [
        "29000,-9931.42409443,439.791501065\n"
       ]
      },
      {
       "output_type": "stream",
       "stream": "stdout",
       "text": [
        "29500,-9779.31882433,447.21878496\n"
       ]
      },
      {
       "output_type": "stream",
       "stream": "stdout",
       "text": [
        "30000,-9840.63328344,443.371152541\n"
       ]
      },
      {
       "output_type": "stream",
       "stream": "stdout",
       "text": [
        "30500,-9750.29188459,452.195869232\n"
       ]
      },
      {
       "output_type": "stream",
       "stream": "stdout",
       "text": [
        "31000,-9487.3153956,455.788877082\n"
       ]
      },
      {
       "output_type": "stream",
       "stream": "stdout",
       "text": [
        "Done heating to 450 K.\n",
        "31500,-9413.36111208,510.841930338"
       ]
      },
      {
       "output_type": "stream",
       "stream": "stdout",
       "text": [
        "\n"
       ]
      },
      {
       "output_type": "stream",
       "stream": "stdout",
       "text": [
        "32000,-9191.20512061,507.738476805\n"
       ]
      },
      {
       "output_type": "stream",
       "stream": "stdout",
       "text": [
        "32500,-9143.48798122,533.715547636\n"
       ]
      },
      {
       "output_type": "stream",
       "stream": "stdout",
       "text": [
        "33000,-9182.45920256,492.663146874\n"
       ]
      },
      {
       "output_type": "stream",
       "stream": "stdout",
       "text": [
        "33500,-9341.06722151,519.924035693\n"
       ]
      },
      {
       "output_type": "stream",
       "stream": "stdout",
       "text": [
        "34000,-9253.22801602,468.843123468\n"
       ]
      },
      {
       "output_type": "stream",
       "stream": "stdout",
       "text": [
        "Done heating to 500 K.\n",
        "34500,-9034.06373868,526.477795857"
       ]
      },
      {
       "output_type": "stream",
       "stream": "stdout",
       "text": [
        "\n"
       ]
      },
      {
       "output_type": "stream",
       "stream": "stdout",
       "text": [
        "35000,-8448.78282479,546.584584198\n"
       ]
      },
      {
       "output_type": "stream",
       "stream": "stdout",
       "text": [
        "35500,-8691.0436679,558.84660543\n"
       ]
      },
      {
       "output_type": "stream",
       "stream": "stdout",
       "text": [
        "36000,-8782.91037129,546.677156959\n"
       ]
      },
      {
       "output_type": "stream",
       "stream": "stdout",
       "text": [
        "36500,-8820.56935107,545.691591754\n"
       ]
      },
      {
       "output_type": "stream",
       "stream": "stdout",
       "text": [
        "37000,-8548.76130893,538.732281485\n"
       ]
      },
      {
       "output_type": "stream",
       "stream": "stdout",
       "text": [
        "Done heating to 550 K.\n",
        "37500,-8264.37268364,532.409725795"
       ]
      },
      {
       "output_type": "stream",
       "stream": "stdout",
       "text": [
        "\n"
       ]
      },
      {
       "output_type": "stream",
       "stream": "stdout",
       "text": [
        "38000,-7973.43830159,588.630276978\n"
       ]
      },
      {
       "output_type": "stream",
       "stream": "stdout",
       "text": [
        "38500,-7962.08948137,635.099396764\n"
       ]
      },
      {
       "output_type": "stream",
       "stream": "stdout",
       "text": [
        "39000,-7688.63032808,588.475288791\n"
       ]
      },
      {
       "output_type": "stream",
       "stream": "stdout",
       "text": [
        "39500,-7784.07590463,590.148744154\n"
       ]
      },
      {
       "output_type": "stream",
       "stream": "stdout",
       "text": [
        "40000,-7607.25148919,569.623953991\n"
       ]
      },
      {
       "output_type": "stream",
       "stream": "stdout",
       "text": [
        "Done heating to 600 K.\n"
       ]
      }
     ],
     "prompt_number": 20
    },
    {
     "cell_type": "markdown",
     "metadata": {},
     "source": [
      "<h2>Production MD</h2>"
     ]
    },
    {
     "cell_type": "code",
     "collapsed": false,
     "input": [
      "simulation.reporters = []\n",
      "# Output potential energy and temperature\n",
      "simulation.reporters.append(PDBReporter('TetraAspDimer_MD_wConstraints.pdb', 100))\n",
      "simulation.reporters.append(StateDataReporter(stdout, 500, step=True, potentialEnergy=True, temperature=True))\n",
      "\n",
      "# Run simulation at 600K \n",
      "integrator.setTemperature(target_temperature)\n",
      "print ('Running production MD simulation ', target_temperature)\n",
      "simulation.step(10000)\n",
      "del simulation"
     ],
     "language": "python",
     "metadata": {},
     "outputs": [
      {
       "output_type": "stream",
       "stream": "stdout",
       "text": [
        "Running production MD simulation  600\n",
        "#\"Step\",\"Potential Energy (kJ/mole)\",\"Temperature (K)\""
       ]
      },
      {
       "output_type": "stream",
       "stream": "stdout",
       "text": [
        "\n"
       ]
      },
      {
       "output_type": "stream",
       "stream": "stdout",
       "text": [
        "50500,-7865.86469988,581.652317759\n"
       ]
      },
      {
       "output_type": "stream",
       "stream": "stdout",
       "text": [
        "51000,-7959.87375229,620.274111201\n"
       ]
      },
      {
       "output_type": "stream",
       "stream": "stdout",
       "text": [
        "51500,-7617.9868344,622.226847601\n"
       ]
      },
      {
       "output_type": "stream",
       "stream": "stdout",
       "text": [
        "52000,-7764.56903569,630.499226712\n"
       ]
      },
      {
       "output_type": "stream",
       "stream": "stdout",
       "text": [
        "52500,-7994.40726264,645.4864539\n"
       ]
      },
      {
       "output_type": "stream",
       "stream": "stdout",
       "text": [
        "53000,-7823.01409515,630.692208301\n"
       ]
      },
      {
       "output_type": "stream",
       "stream": "stdout",
       "text": [
        "53500,-7764.10247025,634.325396719\n"
       ]
      },
      {
       "output_type": "stream",
       "stream": "stdout",
       "text": [
        "54000,-7828.38088489,617.795727185\n"
       ]
      },
      {
       "output_type": "stream",
       "stream": "stdout",
       "text": [
        "54500,-7945.79915115,583.903197631\n"
       ]
      },
      {
       "output_type": "stream",
       "stream": "stdout",
       "text": [
        "55000,-7948.56746777,570.38859993\n"
       ]
      },
      {
       "output_type": "stream",
       "stream": "stdout",
       "text": [
        "55500,-7809.14694017,582.87038181\n"
       ]
      },
      {
       "output_type": "stream",
       "stream": "stdout",
       "text": [
        "56000,-7816.60488027,612.195149227\n"
       ]
      },
      {
       "output_type": "stream",
       "stream": "stdout",
       "text": [
        "56500,-8042.0744896,619.667407538\n"
       ]
      },
      {
       "output_type": "stream",
       "stream": "stdout",
       "text": [
        "57000,-7955.83575495,559.669937669\n"
       ]
      },
      {
       "output_type": "stream",
       "stream": "stdout",
       "text": [
        "57500,-7974.049462,599.841590494\n"
       ]
      },
      {
       "output_type": "stream",
       "stream": "stdout",
       "text": [
        "58000,-8217.15560549,630.898565896\n"
       ]
      },
      {
       "output_type": "stream",
       "stream": "stdout",
       "text": [
        "58500,-7777.21883578,619.265344998\n"
       ]
      },
      {
       "output_type": "stream",
       "stream": "stdout",
       "text": [
        "59000,-7629.55154258,583.770376944\n"
       ]
      },
      {
       "output_type": "stream",
       "stream": "stdout",
       "text": [
        "59500,-7881.51891209,642.447697581\n"
       ]
      },
      {
       "output_type": "stream",
       "stream": "stdout",
       "text": [
        "60000,-7894.14971679,627.1787801\n"
       ]
      }
     ],
     "prompt_number": 35
    },
    {
     "cell_type": "code",
     "collapsed": false,
     "input": [],
     "language": "python",
     "metadata": {},
     "outputs": []
    }
   ],
   "metadata": {}
  }
 ]
}