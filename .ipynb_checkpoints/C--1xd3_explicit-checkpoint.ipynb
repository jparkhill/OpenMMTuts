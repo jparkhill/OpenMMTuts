{
 "metadata": {
  "name": ""
 },
 "nbformat": 3,
 "nbformat_minor": 0,
 "worksheets": [
  {
   "cells": [
    {
     "cell_type": "markdown",
     "metadata": {},
     "source": [
      "<h1>Explicit solvent MD on chain D\n",
      "<img src=\"files/UB_monomer_explicit.png\" width=\"200\" style=\"float:center;\"/>\n",
      " of 1xd3</h1>"
     ]
    },
    {
     "cell_type": "markdown",
     "metadata": {},
     "source": [
      "<p style=\"font-family:arial;font-size:20px\">Load modules</p>"
     ]
    },
    {
     "cell_type": "code",
     "collapsed": false,
     "input": [
      "from __future__ import print_function\n",
      "from simtk.openmm import app\n",
      "import simtk.openmm as mm\n",
      "from simtk import unit\n",
      "from sys import stdout"
     ],
     "language": "python",
     "metadata": {},
     "outputs": [],
     "prompt_number": 1
    },
    {
     "cell_type": "markdown",
     "metadata": {},
     "source": [
      "<p style=\"font-family:arial;font-size:20px\">Load the protein coordinates</p>"
     ]
    },
    {
     "cell_type": "code",
     "collapsed": false,
     "input": [
      "pdb = app.PDBFile('PDBFixer_1xd3_D_explicit_in.pdb')"
     ],
     "language": "python",
     "metadata": {},
     "outputs": [],
     "prompt_number": 2
    },
    {
     "cell_type": "markdown",
     "metadata": {},
     "source": [
      "<p style=\"font-family:arial;font-size:20px\">Select the force field and solvent model</p>"
     ]
    },
    {
     "cell_type": "code",
     "collapsed": false,
     "input": [
      "forcefield = app.ForceField('amber99sbildn.xml', 'tip3p.xml')"
     ],
     "language": "python",
     "metadata": {},
     "outputs": [],
     "prompt_number": 3
    },
    {
     "cell_type": "markdown",
     "metadata": {},
     "source": [
      "<p style=\"font-family:arial;font-size:20px\">Create the system</p>"
     ]
    },
    {
     "cell_type": "code",
     "collapsed": false,
     "input": [
      "system = forcefield.createSystem(pdb.topology, nonbondedMethod=app.PME, \n",
      "    nonbondedCutoff=1.0*unit.nanometers, constraints=app.HBonds, rigidWater=True, \n",
      "    ewaldErrorTolerance=0.0005)"
     ],
     "language": "python",
     "metadata": {},
     "outputs": [],
     "prompt_number": 4
    },
    {
     "cell_type": "markdown",
     "metadata": {},
     "source": [
      "<p style=\"font-family:arial;font-size:20px\">Specify the integrator to be used for advancing the equations of motion</p>"
     ]
    },
    {
     "cell_type": "code",
     "collapsed": false,
     "input": [
      "integrator = mm.LangevinIntegrator(300*unit.kelvin, 1.0/unit.picoseconds, \n",
      "    2.0*unit.femtoseconds)\n",
      "integrator.setConstraintTolerance(0.00001)"
     ],
     "language": "python",
     "metadata": {},
     "outputs": [],
     "prompt_number": 5
    },
    {
     "cell_type": "markdown",
     "metadata": {},
     "source": [
      "<p style=\"font-family:arial;font-size:20px\">Select from one of the following platforms: 'Reference', 'CPU', 'CUDA', 'OpenCL'</p>"
     ]
    },
    {
     "cell_type": "code",
     "collapsed": false,
     "input": [
      "platform = mm.Platform.getPlatformByName('CPU')"
     ],
     "language": "python",
     "metadata": {},
     "outputs": [],
     "prompt_number": 6
    },
    {
     "cell_type": "markdown",
     "metadata": {},
     "source": [
      "<p style=\"font-family:arial;font-size:20px\">Create the 'simulation' object, which coordinates all the processes involved in running a simulation, such as advancing time and writing output</p>"
     ]
    },
    {
     "cell_type": "code",
     "collapsed": false,
     "input": [
      "simulation = app.Simulation(pdb.topology, system, integrator, platform)\n",
      "simulation.context.setPositions(pdb.positions)"
     ],
     "language": "python",
     "metadata": {},
     "outputs": [],
     "prompt_number": 7
    },
    {
     "cell_type": "markdown",
     "metadata": {},
     "source": [
      "<p style=\"font-family:arial;font-size:20px\">Create a 'reporter' that generates output during the simulation</p>"
     ]
    },
    {
     "cell_type": "code",
     "collapsed": false,
     "input": [
      "simulation.reporters = []\n",
      "simulation.reporters.append(app.PDBReporter('PDBFixer_1xd3_D_explicit_out.pdb', 100))\n",
      "simulation.reporters.append(app.StateDataReporter(stdout, 500, step=True, \n",
      "    potentialEnergy=True, temperature=True))"
     ],
     "language": "python",
     "metadata": {},
     "outputs": [],
     "prompt_number": 8
    },
    {
     "cell_type": "markdown",
     "metadata": {},
     "source": [
      "<p style=\"font-family:arial;font-size:20px\">Minimize, equilibrate, and run production MD</p>"
     ]
    },
    {
     "cell_type": "code",
     "collapsed": false,
     "input": [
      "print('Minimizing...')\n",
      "simulation.minimizeEnergy(maxIterations=100)\n",
      "\n",
      "simulation.context.setVelocitiesToTemperature(300*unit.kelvin)\n",
      "print('Equilibrating...')\n",
      "simulation.step(100)\n",
      "\n",
      "print('Running Production...')\n",
      "simulation.step(10000)\n",
      "del simulation\n",
      "print('Done!')"
     ],
     "language": "python",
     "metadata": {},
     "outputs": [
      {
       "output_type": "stream",
       "stream": "stdout",
       "text": [
        "Minimizing...\n",
        "Equilibrating..."
       ]
      },
      {
       "output_type": "stream",
       "stream": "stdout",
       "text": [
        "\n",
        "Running Production..."
       ]
      },
      {
       "output_type": "stream",
       "stream": "stdout",
       "text": [
        "\n",
        "#\"Step\",\"Potential Energy (kJ/mole)\",\"Temperature (K)\""
       ]
      },
      {
       "output_type": "stream",
       "stream": "stdout",
       "text": [
        "\n"
       ]
      },
      {
       "output_type": "stream",
       "stream": "stdout",
       "text": [
        "500,-74401.8090021,295.387367069\n"
       ]
      },
      {
       "output_type": "stream",
       "stream": "stdout",
       "text": [
        "1000,-74125.7823355,298.22274904\n"
       ]
      },
      {
       "output_type": "stream",
       "stream": "stdout",
       "text": [
        "1500,-74457.1591782,303.806111256\n"
       ]
      },
      {
       "output_type": "stream",
       "stream": "stdout",
       "text": [
        "2000,-74481.8600185,297.5935383\n"
       ]
      },
      {
       "output_type": "stream",
       "stream": "stdout",
       "text": [
        "2500,-74404.3752891,298.436244435\n"
       ]
      },
      {
       "output_type": "stream",
       "stream": "stdout",
       "text": [
        "3000,-74311.1437752,300.268730571\n"
       ]
      },
      {
       "output_type": "stream",
       "stream": "stdout",
       "text": [
        "3500,-74635.8155385,298.69147722\n"
       ]
      },
      {
       "output_type": "stream",
       "stream": "stdout",
       "text": [
        "4000,-74368.2530394,301.77404911\n"
       ]
      }
     ],
     "prompt_number": "*"
    },
    {
     "cell_type": "code",
     "collapsed": false,
     "input": [],
     "language": "python",
     "metadata": {},
     "outputs": []
    }
   ],
   "metadata": {}
  }
 ]
}