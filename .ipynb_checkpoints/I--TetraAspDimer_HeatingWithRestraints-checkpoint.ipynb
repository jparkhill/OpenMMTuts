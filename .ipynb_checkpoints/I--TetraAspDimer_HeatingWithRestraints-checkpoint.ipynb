{
 "metadata": {
  "name": ""
 },
 "nbformat": 3,
 "nbformat_minor": 0,
 "worksheets": [
  {
   "cells": [
    {
     "cell_type": "markdown",
     "metadata": {},
     "source": [
      "<h1>Stepwise heating of an H-bonded system, using harmonic restraints</h1>"
     ]
    },
    {
     "cell_type": "code",
     "collapsed": false,
     "input": [
      "from __future__ import print_function\n",
      "from simtk.openmm.app import *\n",
      "from simtk.openmm import *\n",
      "from simtk.unit import *\n",
      "from sys import stdout"
     ],
     "language": "python",
     "metadata": {},
     "outputs": [],
     "prompt_number": 1
    },
    {
     "cell_type": "code",
     "collapsed": false,
     "input": [
      "openmm.Platform.getOpenMMVersion()"
     ],
     "language": "python",
     "metadata": {},
     "outputs": [
      {
       "metadata": {},
       "output_type": "pyout",
       "prompt_number": 2,
       "text": [
        "'6.0'"
       ]
      }
     ],
     "prompt_number": 2
    },
    {
     "cell_type": "code",
     "collapsed": false,
     "input": [
      "ls"
     ],
     "language": "python",
     "metadata": {},
     "outputs": [
      {
       "output_type": "stream",
       "stream": "stdout",
       "text": [
        "TetraAspDimer_Constraints_OpenMM.ipynb      TetraAspDimer_HeatingWithRestraints.ipynb   TetraAspDimer_noHeating_OpenMM.ipynb        TetraAspDimer_withHeating_OpenMM.ipynb\r\n",
        "TetraAspDimer_Heat_wRestraints.pdb          TetraAspDimer_LowTempEquil_wRestraints.pdb  TetraAspDimer_noIons.inpcrd\r\n",
        "TetraAspDimer_HeatingWithConstraints.ipynb  TetraAspDimer_ProductionMD.pdb              TetraAspDimer_noIons.prmtop\r\n"
       ]
      }
     ],
     "prompt_number": 3
    },
    {
     "cell_type": "markdown",
     "metadata": {},
     "source": [
      "<h2>Load Amber topology and coordinates</h2>"
     ]
    },
    {
     "cell_type": "code",
     "collapsed": false,
     "input": [
      "prmtop = AmberPrmtopFile('TetraAspDimer_noIons.prmtop')\n",
      "inpcrd = AmberInpcrdFile('TetraAspDimer_noIons.inpcrd')"
     ],
     "language": "python",
     "metadata": {},
     "outputs": [],
     "prompt_number": 4
    },
    {
     "cell_type": "markdown",
     "metadata": {},
     "source": [
      "<h2>Create the system</h2>"
     ]
    },
    {
     "cell_type": "code",
     "collapsed": false,
     "input": [
      "system = prmtop.createSystem(nonbondedMethod=PME,nonbondedCutoff=1*nanometer, constraints=HBonds)"
     ],
     "language": "python",
     "metadata": {},
     "outputs": [],
     "prompt_number": 5
    },
    {
     "cell_type": "markdown",
     "metadata": {},
     "source": [
      "<h2>Adding harmonic restraints</h2>"
     ]
    },
    {
     "cell_type": "code",
     "collapsed": false,
     "input": [
      "a = HarmonicBondForce()\n",
      "a.addBond(15, 88, 1.8*angstroms, 100*kilocalories_per_mole/angstrom**2)\n",
      "a.addBond(25, 78, 1.8*angstroms, 100*kilocalories_per_mole/angstrom**2)\n",
      "a.addBond(39, 64, 1.8*angstroms, 100*kilocalories_per_mole/angstrom**2)\n",
      "system.addForce(a)"
     ],
     "language": "python",
     "metadata": {},
     "outputs": [
      {
       "metadata": {},
       "output_type": "pyout",
       "prompt_number": 6,
       "text": [
        "5"
       ]
      }
     ],
     "prompt_number": 6
    },
    {
     "cell_type": "markdown",
     "metadata": {},
     "source": [
      "<h3>Let's quickly double check whether everything is set:</h3>"
     ]
    },
    {
     "cell_type": "code",
     "collapsed": false,
     "input": [
      "for i in range(0, a.getNumBonds()):\n",
      "    print (a.getBondParameters(i))"
     ],
     "language": "python",
     "metadata": {},
     "outputs": [
      {
       "output_type": "stream",
       "stream": "stdout",
       "text": [
        "[15, 88, Quantity(value=0.18000000000000002, unit=nanometer), Quantity(value=41840.0, unit=kilojoule/(nanometer**2*mole))]\n",
        "[25, 78, Quantity(value=0.18000000000000002, unit=nanometer), Quantity(value=41840.0, unit=kilojoule/(nanometer**2*mole))]\n",
        "[39, 64, Quantity(value=0.18000000000000002, unit=nanometer), Quantity(value=41840.0, unit=kilojoule/(nanometer**2*mole))]\n"
       ]
      }
     ],
     "prompt_number": 7
    },
    {
     "cell_type": "markdown",
     "metadata": {},
     "source": [
      "<h2>Create the Simulation object and store it in the variable 'simulation'</h2>"
     ]
    },
    {
     "cell_type": "code",
     "collapsed": false,
     "input": [
      "# Setting the temperature variable target_temperature to zero\n",
      "target_temperature = 0*kelvin\n",
      "\n",
      "integrator = LangevinIntegrator(target_temperature, 1/picosecond, 0.002*picoseconds)\n",
      "simulation = Simulation(prmtop.topology, system, integrator)\n",
      "simulation.context.setPositions(inpcrd.positions)\n",
      "\n",
      "# ----------------------------------\n",
      "# -> in case we are running into problems with OpenCL or CUDA, we can specify either CPU or Reference as an alternative.\n",
      "# platform = Platform.getPlatformByName('CPU')\n",
      "# print \"Using Platform:\", platform\n",
      "# simulation = Simulation(prmtop.topology, system, integrator, platform)\n",
      "# ----------------------------------"
     ],
     "language": "python",
     "metadata": {},
     "outputs": [],
     "prompt_number": 8
    },
    {
     "cell_type": "markdown",
     "metadata": {},
     "source": [
      "<h2>Geometry optimization</h2>"
     ]
    },
    {
     "cell_type": "code",
     "collapsed": false,
     "input": [
      "# Minimizing the system\n",
      "simulation.minimizeEnergy(maxIterations=100)\n",
      "print ('Geometry optimization done.')"
     ],
     "language": "python",
     "metadata": {},
     "outputs": [
      {
       "output_type": "stream",
       "stream": "stdout",
       "text": [
        "Geometry optimization done.\n"
       ]
      }
     ],
     "prompt_number": 9
    },
    {
     "cell_type": "markdown",
     "metadata": {},
     "source": [
      "<h2>Equilibrating to T = 0</h2>"
     ]
    },
    {
     "cell_type": "code",
     "collapsed": false,
     "input": [
      "simulation.reporters = []\n",
      "equil_steps = 4000\n",
      "# Equilibrating at low temperature\n",
      "print ('Equilibrating the optimized geometry to a low temperature for',equil_steps,'steps ... .')\n",
      "# Output potential energy and temperature during low temperature equilibration\n",
      "simulation.reporters.append(PDBReporter('TetraAspDimer_LowTempEquil_wRestraints.pdb', 100))\n",
      "simulation.reporters.append(StateDataReporter(stdout, 500, step=True, potentialEnergy=True, temperature=True))\n",
      "\n",
      "simulation.step(equil_steps)"
     ],
     "language": "python",
     "metadata": {},
     "outputs": [
      {
       "output_type": "stream",
       "stream": "stdout",
       "text": [
        "Equilibrating the optimized geometry to a low temperature for 4000 steps ... .\n",
        "#\"Step\",\"Potential Energy (kJ/mole)\",\"Temperature (K)\""
       ]
      },
      {
       "output_type": "stream",
       "stream": "stdout",
       "text": [
        "\n"
       ]
      },
      {
       "output_type": "stream",
       "stream": "stdout",
       "text": [
        "500,-12618.4759812,147.730648881\n"
       ]
      },
      {
       "output_type": "stream",
       "stream": "stdout",
       "text": [
        "1000,-13806.5469225,86.0119992228\n"
       ]
      },
      {
       "output_type": "stream",
       "stream": "stdout",
       "text": [
        "1500,-14227.2687588,36.0694808029\n"
       ]
      },
      {
       "output_type": "stream",
       "stream": "stdout",
       "text": [
        "2000,-14413.8252694,15.0014598308\n"
       ]
      },
      {
       "output_type": "stream",
       "stream": "stdout",
       "text": [
        "2500,-14504.8709548,6.63237890209\n"
       ]
      },
      {
       "output_type": "stream",
       "stream": "stdout",
       "text": [
        "3000,-14533.0279702,2.4294878769\n"
       ]
      },
      {
       "output_type": "stream",
       "stream": "stdout",
       "text": [
        "3500,-14543.0144105,0.908469075937\n"
       ]
      },
      {
       "output_type": "stream",
       "stream": "stdout",
       "text": [
        "4000,-14547.1206697,0.341883618049\n"
       ]
      }
     ],
     "prompt_number": 10
    },
    {
     "cell_type": "markdown",
     "metadata": {},
     "source": [
      "<h2>Heating in 50 K increments from 0 to 600 K</h2>"
     ]
    },
    {
     "cell_type": "code",
     "collapsed": false,
     "input": [
      "simulation.reporters = []\n",
      "# Remember: target_temperature is currently set to 0\n",
      "# Heating through looping until the final temperature is reached\n",
      "print ('Heating the system from 0 to 600K (increasing target_temperature in 6 steps of 50K)')\n",
      "# Output potential energy and temperature\n",
      "simulation.reporters.append(PDBReporter('TetraAspDimer_Heat_wRestraints.pdb', 100))\n",
      "simulation.reporters.append(StateDataReporter(stdout, 500, step=True, potentialEnergy=True, temperature=True))\n",
      "for target_temperature in range(50, 601, 50):\n",
      "    integrator.setTemperature(target_temperature)\n",
      "    simulation.step(2000)\n",
      "    print ('Done heating to', target_temperature, 'K.')"
     ],
     "language": "python",
     "metadata": {},
     "outputs": [
      {
       "output_type": "stream",
       "stream": "stdout",
       "text": [
        "Heating the system from 0 to 600K (increasing target_temperature in 6 steps of 50K)\n",
        "#\"Step\",\"Potential Energy (kJ/mole)\",\"Temperature (K)\""
       ]
      },
      {
       "output_type": "stream",
       "stream": "stdout",
       "text": [
        "\n"
       ]
      },
      {
       "output_type": "stream",
       "stream": "stdout",
       "text": [
        "4500,-14333.361418,33.0890326507\n"
       ]
      },
      {
       "output_type": "stream",
       "stream": "stdout",
       "text": [
        "5000,-14248.9782531,44.9385833267\n"
       ]
      },
      {
       "output_type": "stream",
       "stream": "stdout",
       "text": [
        "5500,-14221.6501038,47.2605277077\n"
       ]
      },
      {
       "output_type": "stream",
       "stream": "stdout",
       "text": [
        "6000,-14230.6532797,49.3204728822\n"
       ]
      },
      {
       "output_type": "stream",
       "stream": "stdout",
       "text": [
        "Done heating to 50 K.\n",
        "6500,-13991.6664079,81.8731912434"
       ]
      },
      {
       "output_type": "stream",
       "stream": "stdout",
       "text": [
        "\n"
       ]
      },
      {
       "output_type": "stream",
       "stream": "stdout",
       "text": [
        "7000,-13867.3390762,93.177333171\n"
       ]
      },
      {
       "output_type": "stream",
       "stream": "stdout",
       "text": [
        "7500,-13851.8987521,94.6269930505\n"
       ]
      },
      {
       "output_type": "stream",
       "stream": "stdout",
       "text": [
        "8000,-13851.7621135,98.0482239534\n"
       ]
      },
      {
       "output_type": "stream",
       "stream": "stdout",
       "text": [
        "Done heating to 100 K.\n",
        "8500,-13601.275664,133.3165139"
       ]
      },
      {
       "output_type": "stream",
       "stream": "stdout",
       "text": [
        "\n"
       ]
      },
      {
       "output_type": "stream",
       "stream": "stdout",
       "text": [
        "9000,-13545.6556285,145.636142618\n"
       ]
      },
      {
       "output_type": "stream",
       "stream": "stdout",
       "text": [
        "9500,-13451.3937493,145.095772342\n"
       ]
      },
      {
       "output_type": "stream",
       "stream": "stdout",
       "text": [
        "10000,-13516.0177953,154.677741178\n"
       ]
      },
      {
       "output_type": "stream",
       "stream": "stdout",
       "text": [
        "Done heating to 150 K.\n",
        "10500,-13286.0995555,174.354695664"
       ]
      },
      {
       "output_type": "stream",
       "stream": "stdout",
       "text": [
        "\n"
       ]
      },
      {
       "output_type": "stream",
       "stream": "stdout",
       "text": [
        "11000,-13149.1113424,192.311366132\n"
       ]
      },
      {
       "output_type": "stream",
       "stream": "stdout",
       "text": [
        "11500,-13060.6007245,196.935781165\n"
       ]
      },
      {
       "output_type": "stream",
       "stream": "stdout",
       "text": [
        "12000,-13210.4414748,193.072784271\n"
       ]
      },
      {
       "output_type": "stream",
       "stream": "stdout",
       "text": [
        "Done heating to 200 K.\n",
        "12500,-12788.1596131,231.635862753"
       ]
      },
      {
       "output_type": "stream",
       "stream": "stdout",
       "text": [
        "\n"
       ]
      },
      {
       "output_type": "stream",
       "stream": "stdout",
       "text": [
        "13000,-12639.4353776,250.066019192\n"
       ]
      },
      {
       "output_type": "stream",
       "stream": "stdout",
       "text": [
        "13500,-12628.9769257,245.299078289\n"
       ]
      },
      {
       "output_type": "stream",
       "stream": "stdout",
       "text": [
        "14000,-12588.7694824,265.354633287\n"
       ]
      },
      {
       "output_type": "stream",
       "stream": "stdout",
       "text": [
        "Done heating to 250 K.\n",
        "14500,-12322.4959215,265.033161549"
       ]
      },
      {
       "output_type": "stream",
       "stream": "stdout",
       "text": [
        "\n"
       ]
      },
      {
       "output_type": "stream",
       "stream": "stdout",
       "text": [
        "15000,-12149.7147258,296.389440792\n"
       ]
      },
      {
       "output_type": "stream",
       "stream": "stdout",
       "text": [
        "15500,-12090.60651,315.081363863\n"
       ]
      },
      {
       "output_type": "stream",
       "stream": "stdout",
       "text": [
        "16000,-11820.0818808,284.437840655\n"
       ]
      },
      {
       "output_type": "stream",
       "stream": "stdout",
       "text": [
        "Done heating to 300 K.\n",
        "16500,-11598.1805346,321.136272611"
       ]
      },
      {
       "output_type": "stream",
       "stream": "stdout",
       "text": [
        "\n"
       ]
      },
      {
       "output_type": "stream",
       "stream": "stdout",
       "text": [
        "17000,-11299.613543,347.612626011\n"
       ]
      },
      {
       "output_type": "stream",
       "stream": "stdout",
       "text": [
        "17500,-11255.0448051,347.487866353\n"
       ]
      },
      {
       "output_type": "stream",
       "stream": "stdout",
       "text": [
        "18000,-11046.8377589,343.556307572\n"
       ]
      },
      {
       "output_type": "stream",
       "stream": "stdout",
       "text": [
        "Done heating to 350 K.\n",
        "18500,-10827.8902008,367.641473169"
       ]
      },
      {
       "output_type": "stream",
       "stream": "stdout",
       "text": [
        "\n"
       ]
      },
      {
       "output_type": "stream",
       "stream": "stdout",
       "text": [
        "19000,-10607.7159314,387.115977341\n"
       ]
      },
      {
       "output_type": "stream",
       "stream": "stdout",
       "text": [
        "19500,-10354.3794302,396.081674995\n"
       ]
      },
      {
       "output_type": "stream",
       "stream": "stdout",
       "text": [
        "20000,-10319.8508829,389.585668273\n"
       ]
      },
      {
       "output_type": "stream",
       "stream": "stdout",
       "text": [
        "Done heating to 400 K.\n",
        "20500,-10061.6224127,406.310703533"
       ]
      },
      {
       "output_type": "stream",
       "stream": "stdout",
       "text": [
        "\n"
       ]
      },
      {
       "output_type": "stream",
       "stream": "stdout",
       "text": [
        "21000,-9833.65097369,429.326915014\n"
       ]
      },
      {
       "output_type": "stream",
       "stream": "stdout",
       "text": [
        "21500,-9664.23469976,429.048889405\n"
       ]
      },
      {
       "output_type": "stream",
       "stream": "stdout",
       "text": [
        "22000,-9488.28497722,460.431773211\n"
       ]
      },
      {
       "output_type": "stream",
       "stream": "stdout",
       "text": [
        "Done heating to 450 K.\n",
        "22500,-9316.07196684,495.667498383"
       ]
      },
      {
       "output_type": "stream",
       "stream": "stdout",
       "text": [
        "\n"
       ]
      },
      {
       "output_type": "stream",
       "stream": "stdout",
       "text": [
        "23000,-8850.16793008,504.139908874\n"
       ]
      },
      {
       "output_type": "stream",
       "stream": "stdout",
       "text": [
        "23500,-8804.55346153,482.622222374\n"
       ]
      },
      {
       "output_type": "stream",
       "stream": "stdout",
       "text": [
        "24000,-9015.25937236,496.535355175\n"
       ]
      },
      {
       "output_type": "stream",
       "stream": "stdout",
       "text": [
        "Done heating to 500 K.\n",
        "24500,-8795.02026961,525.70138411"
       ]
      },
      {
       "output_type": "stream",
       "stream": "stdout",
       "text": [
        "\n"
       ]
      },
      {
       "output_type": "stream",
       "stream": "stdout",
       "text": [
        "25000,-8597.70318373,565.650846989\n"
       ]
      },
      {
       "output_type": "stream",
       "stream": "stdout",
       "text": [
        "25500,-8391.31124729,538.01210308\n"
       ]
      },
      {
       "output_type": "stream",
       "stream": "stdout",
       "text": [
        "26000,-8391.4317359,554.328622081\n"
       ]
      },
      {
       "output_type": "stream",
       "stream": "stdout",
       "text": [
        "Done heating to 550 K.\n",
        "26500,-8371.90188478,596.4612583"
       ]
      },
      {
       "output_type": "stream",
       "stream": "stdout",
       "text": [
        "\n"
       ]
      },
      {
       "output_type": "stream",
       "stream": "stdout",
       "text": [
        "27000,-8116.06659382,611.754957215\n"
       ]
      },
      {
       "output_type": "stream",
       "stream": "stdout",
       "text": [
        "27500,-8105.64371152,572.203934425\n"
       ]
      },
      {
       "output_type": "stream",
       "stream": "stdout",
       "text": [
        "28000,-8173.40144607,599.419815215\n"
       ]
      },
      {
       "output_type": "stream",
       "stream": "stdout",
       "text": [
        "Done heating to 600 K.\n"
       ]
      }
     ],
     "prompt_number": 11
    },
    {
     "cell_type": "markdown",
     "metadata": {},
     "source": [
      "<h2>Remove the restraints</h2>"
     ]
    },
    {
     "cell_type": "code",
     "collapsed": false,
     "input": [
      "aBP = []\n",
      "print ('Here are the details of our restraints again:'); print ()\n",
      "for i in range(0, a.getNumBonds()):\n",
      "    print (a.getBondParameters(i))\n",
      "    # we store the bond parameters in aBP, so we don't have to type a.getBondParameters(1)[0] ...\n",
      "    # ... every time we want to access them\n",
      "    aBP.append(a.getBondParameters(i))\n",
      "\n",
      "print ('----------------'); print ()\n",
      "print ('Alternatively, we can pull individual values:')\n",
      "for i in range(0, a.getNumBonds()):\n",
      "    print ('Restraint', i,'; Harmonic force constant:', a.getBondParameters(i)[3])"
     ],
     "language": "python",
     "metadata": {},
     "outputs": [
      {
       "output_type": "stream",
       "stream": "stdout",
       "text": [
        "Here are the details of our restraints again:\n",
        "\n",
        "[15, 88, Quantity(value=0.18000000000000002, unit=nanometer), Quantity(value=41840.0, unit=kilojoule/(nanometer**2*mole))]\n",
        "[25, 78, Quantity(value=0.18000000000000002, unit=nanometer), Quantity(value=41840.0, unit=kilojoule/(nanometer**2*mole))]\n",
        "[39, 64, Quantity(value=0.18000000000000002, unit=nanometer), Quantity(value=41840.0, unit=kilojoule/(nanometer**2*mole))]\n",
        "----------------\n",
        "\n",
        "Alternatively, we can pull individual values:\n",
        "Restraint 0 ; Harmonic force constant: 41840.0 kJ/(nm**2 mol)\n",
        "Restraint 1 ; Harmonic force constant: 41840.0 kJ/(nm**2 mol)\n",
        "Restraint 2 ; Harmonic force constant: 41840.0 kJ/(nm**2 mol)\n"
       ]
      }
     ],
     "prompt_number": 12
    },
    {
     "cell_type": "code",
     "collapsed": false,
     "input": [
      "print ('Now we set the third entry to zero.')\n",
      "for i in range(0, a.getNumBonds()):\n",
      "    a.setBondParameters(i, aBP[i][0], aBP[i][1], aBP[i][2], 0*kilocalories_per_mole/angstrom**2)"
     ],
     "language": "python",
     "metadata": {},
     "outputs": [
      {
       "output_type": "stream",
       "stream": "stdout",
       "text": [
        "Now we set the third entry to zero.\n"
       ]
      }
     ],
     "prompt_number": 13
    },
    {
     "cell_type": "code",
     "collapsed": false,
     "input": [
      "print ('Double checking... .')\n",
      "for i in range(0, a.getNumBonds()):\n",
      "    print ('Restraint', i,'; Harmonic force constant:', a.getBondParameters(i)[3])"
     ],
     "language": "python",
     "metadata": {},
     "outputs": [
      {
       "output_type": "stream",
       "stream": "stdout",
       "text": [
        "Double checking... .\n",
        "Restraint 0 ; Harmonic force constant: 0.0 kJ/(nm**2 mol)\n",
        "Restraint 1 ; Harmonic force constant: 0.0 kJ/(nm**2 mol)\n",
        "Restraint 2 ; Harmonic force constant: 0.0 kJ/(nm**2 mol)\n"
       ]
      }
     ],
     "prompt_number": 14
    },
    {
     "cell_type": "code",
     "collapsed": false,
     "input": [
      "a.updateParametersInContext(simulation.context)"
     ],
     "language": "python",
     "metadata": {},
     "outputs": [],
     "prompt_number": 15
    },
    {
     "cell_type": "markdown",
     "metadata": {},
     "source": [
      "<h2>Production MD</h2>"
     ]
    },
    {
     "cell_type": "code",
     "collapsed": false,
     "input": [
      "simulation.reporters = []\n",
      "# Output potential energy and temperature\n",
      "simulation.reporters.append(PDBReporter('TetraAspDimer_ProductionMD.pdb', 100))\n",
      "simulation.reporters.append(StateDataReporter(stdout, 500, step=True, potentialEnergy=True, temperature=True))\n",
      "\n",
      "# Run simulation at 600K \n",
      "integrator.setTemperature(target_temperature)\n",
      "print ('Running production MD simulation ', target_temperature)\n",
      "simulation.step(50000)\n",
      "del simulation\n",
      "print('Done with production MD')"
     ],
     "language": "python",
     "metadata": {},
     "outputs": [
      {
       "output_type": "stream",
       "stream": "stdout",
       "text": [
        "Running production MD simulation  600\n",
        "#\"Step\",\"Potential Energy (kJ/mole)\",\"Temperature (K)\""
       ]
      },
      {
       "output_type": "stream",
       "stream": "stdout",
       "text": [
        "\n"
       ]
      },
      {
       "output_type": "stream",
       "stream": "stdout",
       "text": [
        "28500,-8276.07475035,594.193556435\n"
       ]
      },
      {
       "output_type": "stream",
       "stream": "stdout",
       "text": [
        "29000,-8269.82204989,614.314001473\n"
       ]
      },
      {
       "output_type": "stream",
       "stream": "stdout",
       "text": [
        "29500,-7913.06320507,574.416266013\n"
       ]
      },
      {
       "output_type": "stream",
       "stream": "stdout",
       "text": [
        "30000,-7922.62708066,605.856717987\n"
       ]
      },
      {
       "output_type": "stream",
       "stream": "stdout",
       "text": [
        "30500,-7826.49019556,566.906254361\n"
       ]
      },
      {
       "output_type": "stream",
       "stream": "stdout",
       "text": [
        "31000,-7832.6410052,572.63915546\n"
       ]
      },
      {
       "output_type": "stream",
       "stream": "stdout",
       "text": [
        "31500,-7791.76575967,585.185260776\n"
       ]
      },
      {
       "output_type": "stream",
       "stream": "stdout",
       "text": [
        "32000,-7779.90684548,561.442202852\n"
       ]
      },
      {
       "output_type": "stream",
       "stream": "stdout",
       "text": [
        "32500,-7820.16382724,599.764413829\n"
       ]
      },
      {
       "output_type": "stream",
       "stream": "stdout",
       "text": [
        "33000,-7953.69370351,590.68472248\n"
       ]
      },
      {
       "output_type": "stream",
       "stream": "stdout",
       "text": [
        "33500,-7817.66617076,590.275593176\n"
       ]
      },
      {
       "output_type": "stream",
       "stream": "stdout",
       "text": [
        "34000,-8141.38684849,599.437371701\n"
       ]
      },
      {
       "output_type": "stream",
       "stream": "stdout",
       "text": [
        "34500,-8198.17889528,577.291613156\n"
       ]
      },
      {
       "output_type": "stream",
       "stream": "stdout",
       "text": [
        "35000,-7999.21232826,609.995877959\n"
       ]
      },
      {
       "output_type": "stream",
       "stream": "stdout",
       "text": [
        "35500,-8069.20757893,618.557499283\n"
       ]
      },
      {
       "output_type": "stream",
       "stream": "stdout",
       "text": [
        "36000,-7857.94354551,599.332389611\n"
       ]
      },
      {
       "output_type": "stream",
       "stream": "stdout",
       "text": [
        "36500,-7727.77614794,592.758892163\n"
       ]
      },
      {
       "output_type": "stream",
       "stream": "stdout",
       "text": [
        "37000,-7866.47571559,588.965082823\n"
       ]
      },
      {
       "output_type": "stream",
       "stream": "stdout",
       "text": [
        "37500,-7831.56709185,599.524619993\n"
       ]
      },
      {
       "output_type": "stream",
       "stream": "stdout",
       "text": [
        "38000,-7921.29882097,585.854410242\n"
       ]
      },
      {
       "output_type": "stream",
       "stream": "stdout",
       "text": [
        "38500,-7954.54997505,556.383377791\n"
       ]
      },
      {
       "output_type": "stream",
       "stream": "stdout",
       "text": [
        "39000,-7869.66171458,608.21682249\n"
       ]
      },
      {
       "output_type": "stream",
       "stream": "stdout",
       "text": [
        "39500,-7915.46448274,578.469560565\n"
       ]
      },
      {
       "output_type": "stream",
       "stream": "stdout",
       "text": [
        "40000,-8086.65261883,599.35911023\n"
       ]
      },
      {
       "output_type": "stream",
       "stream": "stdout",
       "text": [
        "40500,-7967.42417055,574.861051623\n"
       ]
      },
      {
       "output_type": "stream",
       "stream": "stdout",
       "text": [
        "41000,-7960.1475827,597.229230308\n"
       ]
      },
      {
       "output_type": "stream",
       "stream": "stdout",
       "text": [
        "41500,-7851.53634743,621.38210532\n"
       ]
      },
      {
       "output_type": "stream",
       "stream": "stdout",
       "text": [
        "42000,-7724.41527884,606.358043527\n"
       ]
      },
      {
       "output_type": "stream",
       "stream": "stdout",
       "text": [
        "42500,-7694.31016595,620.02996267\n"
       ]
      },
      {
       "output_type": "stream",
       "stream": "stdout",
       "text": [
        "43000,-7705.16244247,582.926046087\n"
       ]
      },
      {
       "output_type": "stream",
       "stream": "stdout",
       "text": [
        "43500,-8179.2261587,626.880564628\n"
       ]
      },
      {
       "output_type": "stream",
       "stream": "stdout",
       "text": [
        "44000,-8002.46828929,603.577829281\n"
       ]
      },
      {
       "output_type": "stream",
       "stream": "stdout",
       "text": [
        "44500,-7994.18943818,608.514534835\n"
       ]
      },
      {
       "output_type": "stream",
       "stream": "stdout",
       "text": [
        "45000,-7824.86977606,592.595430128\n"
       ]
      },
      {
       "output_type": "stream",
       "stream": "stdout",
       "text": [
        "45500,-7775.60937664,588.29686192\n"
       ]
      },
      {
       "output_type": "stream",
       "stream": "stdout",
       "text": [
        "46000,-7797.55932188,616.736103612\n"
       ]
      },
      {
       "output_type": "stream",
       "stream": "stdout",
       "text": [
        "46500,-7719.30209894,593.998215551\n"
       ]
      },
      {
       "output_type": "stream",
       "stream": "stdout",
       "text": [
        "47000,-7811.51175897,588.410462044\n"
       ]
      },
      {
       "output_type": "stream",
       "stream": "stdout",
       "text": [
        "47500,-7769.29952863,605.336175303\n"
       ]
      },
      {
       "output_type": "stream",
       "stream": "stdout",
       "text": [
        "48000,-7914.67153611,629.328358227\n"
       ]
      },
      {
       "output_type": "stream",
       "stream": "stdout",
       "text": [
        "48500,-7522.45625115,593.269750524\n"
       ]
      },
      {
       "output_type": "stream",
       "stream": "stdout",
       "text": [
        "49000,-7882.8843344,640.552780028\n"
       ]
      },
      {
       "output_type": "stream",
       "stream": "stdout",
       "text": [
        "49500,-7664.36487247,607.120644036\n"
       ]
      },
      {
       "output_type": "stream",
       "stream": "stdout",
       "text": [
        "50000,-7823.80266725,651.190063708\n"
       ]
      },
      {
       "output_type": "stream",
       "stream": "stdout",
       "text": [
        "50500,-8047.41693524,599.068938892\n"
       ]
      },
      {
       "output_type": "stream",
       "stream": "stdout",
       "text": [
        "51000,-7858.42165356,615.38779099\n"
       ]
      },
      {
       "output_type": "stream",
       "stream": "stdout",
       "text": [
        "51500,-7963.88928674,560.694094083\n"
       ]
      },
      {
       "output_type": "stream",
       "stream": "stdout",
       "text": [
        "52000,-7763.04334547,566.409099278\n"
       ]
      },
      {
       "output_type": "stream",
       "stream": "stdout",
       "text": [
        "52500,-7755.45443501,580.13090969\n"
       ]
      },
      {
       "output_type": "stream",
       "stream": "stdout",
       "text": [
        "53000,-8021.79401835,608.622602647\n"
       ]
      },
      {
       "output_type": "stream",
       "stream": "stdout",
       "text": [
        "53500,-7779.11109188,622.133027955\n"
       ]
      },
      {
       "output_type": "stream",
       "stream": "stdout",
       "text": [
        "54000,-7875.44509146,628.865299406\n"
       ]
      },
      {
       "output_type": "stream",
       "stream": "stdout",
       "text": [
        "54500,-7660.6389884,606.877961683\n"
       ]
      },
      {
       "output_type": "stream",
       "stream": "stdout",
       "text": [
        "55000,-7554.46882887,611.849864259\n"
       ]
      },
      {
       "output_type": "stream",
       "stream": "stdout",
       "text": [
        "55500,-7583.98394622,593.441119657\n"
       ]
      },
      {
       "output_type": "stream",
       "stream": "stdout",
       "text": [
        "56000,-7719.89447214,607.781711562\n"
       ]
      },
      {
       "output_type": "stream",
       "stream": "stdout",
       "text": [
        "56500,-7901.75358636,603.459548254\n"
       ]
      },
      {
       "output_type": "stream",
       "stream": "stdout",
       "text": [
        "57000,-7650.5156091,606.616336958\n"
       ]
      },
      {
       "output_type": "stream",
       "stream": "stdout",
       "text": [
        "57500,-7824.49766532,602.093040191\n"
       ]
      },
      {
       "output_type": "stream",
       "stream": "stdout",
       "text": [
        "58000,-7578.17371599,589.103535295\n"
       ]
      },
      {
       "output_type": "stream",
       "stream": "stdout",
       "text": [
        "58500,-7795.46746929,598.569936207\n"
       ]
      },
      {
       "output_type": "stream",
       "stream": "stdout",
       "text": [
        "59000,-7944.5443345,567.954112843\n"
       ]
      },
      {
       "output_type": "stream",
       "stream": "stdout",
       "text": [
        "59500,-7696.94670309,574.820818007\n"
       ]
      },
      {
       "output_type": "stream",
       "stream": "stdout",
       "text": [
        "60000,-7693.36979602,594.33460382\n"
       ]
      },
      {
       "output_type": "stream",
       "stream": "stdout",
       "text": [
        "60500,-7929.97665926,597.163773209\n"
       ]
      },
      {
       "output_type": "stream",
       "stream": "stdout",
       "text": [
        "61000,-7970.45907571,605.518747319\n"
       ]
      },
      {
       "output_type": "stream",
       "stream": "stdout",
       "text": [
        "61500,-7892.66639963,617.603202734\n"
       ]
      },
      {
       "output_type": "stream",
       "stream": "stdout",
       "text": [
        "62000,-8196.32452375,622.762433341\n"
       ]
      },
      {
       "output_type": "stream",
       "stream": "stdout",
       "text": [
        "62500,-7899.79811918,602.533369124\n"
       ]
      },
      {
       "output_type": "stream",
       "stream": "stdout",
       "text": [
        "63000,-8120.7522852,597.036849858\n"
       ]
      },
      {
       "output_type": "stream",
       "stream": "stdout",
       "text": [
        "63500,-8081.58984017,590.701181973\n"
       ]
      },
      {
       "output_type": "stream",
       "stream": "stdout",
       "text": [
        "64000,-7977.62350185,583.504016085\n"
       ]
      },
      {
       "output_type": "stream",
       "stream": "stdout",
       "text": [
        "64500,-7945.9941303,575.556910786\n"
       ]
      },
      {
       "output_type": "stream",
       "stream": "stdout",
       "text": [
        "65000,-7908.04888889,617.337452915\n"
       ]
      },
      {
       "output_type": "stream",
       "stream": "stdout",
       "text": [
        "65500,-7983.71701515,642.163174057\n"
       ]
      },
      {
       "output_type": "stream",
       "stream": "stdout",
       "text": [
        "66000,-7939.07990539,602.405466296\n"
       ]
      },
      {
       "output_type": "stream",
       "stream": "stdout",
       "text": [
        "66500,-7987.85657949,628.666266177\n"
       ]
      },
      {
       "output_type": "stream",
       "stream": "stdout",
       "text": [
        "67000,-8058.73335155,597.954179643\n"
       ]
      },
      {
       "output_type": "stream",
       "stream": "stdout",
       "text": [
        "67500,-8155.79190469,609.204725402\n"
       ]
      },
      {
       "output_type": "stream",
       "stream": "stdout",
       "text": [
        "68000,-7586.49167942,597.221351725\n"
       ]
      },
      {
       "output_type": "stream",
       "stream": "stdout",
       "text": [
        "68500,-7679.46212952,612.72609795\n"
       ]
      },
      {
       "output_type": "stream",
       "stream": "stdout",
       "text": [
        "69000,-7896.45047597,592.352680447\n"
       ]
      },
      {
       "output_type": "stream",
       "stream": "stdout",
       "text": [
        "69500,-8016.27072141,644.164696908\n"
       ]
      },
      {
       "output_type": "stream",
       "stream": "stdout",
       "text": [
        "70000,-7787.19407618,558.78400245\n"
       ]
      },
      {
       "output_type": "stream",
       "stream": "stdout",
       "text": [
        "70500,-7861.79313128,628.354207714\n"
       ]
      },
      {
       "output_type": "stream",
       "stream": "stdout",
       "text": [
        "71000,-7710.07786654,588.859857229\n"
       ]
      },
      {
       "output_type": "stream",
       "stream": "stdout",
       "text": [
        "71500,-7982.06585168,587.445697119\n"
       ]
      },
      {
       "output_type": "stream",
       "stream": "stdout",
       "text": [
        "72000,-7954.85419565,572.623927805\n"
       ]
      },
      {
       "output_type": "stream",
       "stream": "stdout",
       "text": [
        "72500,-7855.87376391,602.215616205\n"
       ]
      },
      {
       "output_type": "stream",
       "stream": "stdout",
       "text": [
        "73000,-8122.97697615,561.173665493\n"
       ]
      },
      {
       "output_type": "stream",
       "stream": "stdout",
       "text": [
        "73500,-8062.52199717,576.378910904\n"
       ]
      },
      {
       "output_type": "stream",
       "stream": "stdout",
       "text": [
        "74000,-7768.46451046,563.86569691\n"
       ]
      },
      {
       "output_type": "stream",
       "stream": "stdout",
       "text": [
        "74500,-8056.90741094,607.524190833\n"
       ]
      },
      {
       "output_type": "stream",
       "stream": "stdout",
       "text": [
        "75000,-7885.63039136,598.215788589\n"
       ]
      },
      {
       "output_type": "stream",
       "stream": "stdout",
       "text": [
        "75500,-7948.68322911,599.342197634\n"
       ]
      },
      {
       "output_type": "stream",
       "stream": "stdout",
       "text": [
        "76000,-8015.36428364,588.597606356\n"
       ]
      },
      {
       "output_type": "stream",
       "stream": "stdout",
       "text": [
        "76500,-7792.01992775,557.366709509\n"
       ]
      },
      {
       "output_type": "stream",
       "stream": "stdout",
       "text": [
        "77000,-7970.93953374,640.039661144\n"
       ]
      },
      {
       "output_type": "stream",
       "stream": "stdout",
       "text": [
        "77500,-7757.58709198,610.67940959\n"
       ]
      },
      {
       "output_type": "stream",
       "stream": "stdout",
       "text": [
        "78000,-7594.60076071,585.596252171\n"
       ]
      }
     ],
     "prompt_number": 16
    },
    {
     "cell_type": "code",
     "collapsed": false,
     "input": [],
     "language": "python",
     "metadata": {},
     "outputs": []
    }
   ],
   "metadata": {}
  }
 ]
}